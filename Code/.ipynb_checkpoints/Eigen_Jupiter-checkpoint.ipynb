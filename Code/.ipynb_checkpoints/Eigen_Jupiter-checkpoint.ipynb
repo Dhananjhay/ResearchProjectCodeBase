{
 "cells": [
  {
   "cell_type": "markdown",
   "id": "55a21892",
   "metadata": {},
   "source": [
    "$g_{i}$ and $e_{ji}$ are the eigenvalues and components of eigenvectors of the matrix A, respectively."
   ]
  },
  {
   "cell_type": "markdown",
   "id": "65fb3b0d",
   "metadata": {},
   "source": [
    "$f_{i}$ and $I_{ji}$ are the eigenvalues and components of eigenvectors of the matrix B, respectively."
   ]
  },
  {
   "cell_type": "markdown",
   "id": "aca428a5",
   "metadata": {},
   "source": [
    "In our notation the subscript j always denotes the planet number while the subscript i always denotes the mode number."
   ]
  },
  {
   "cell_type": "code",
   "execution_count": 1,
   "id": "a8ff392a",
   "metadata": {},
   "outputs": [],
   "source": [
    "import numpy as np\n",
    "import matplotlib.pyplot as plt\n",
    "from math import pi\n",
    "from scipy.integrate import quad\n",
    "from numpy.linalg import eig\n",
    "import pandas as pd"
   ]
  },
  {
   "cell_type": "code",
   "execution_count": 2,
   "id": "34f4bced",
   "metadata": {},
   "outputs": [],
   "source": [
    "#Integratin functionality\n",
    "def b_1(x):\n",
    "    return (1/pi)*(np.cos(x)/(1 - 2*alpha*np.cos(x) + alpha**2\n",
    "                             )**(3/2))\n",
    "# ans_b1,err_b2=quad(b_1,0,2*pi)\n",
    "def b_2(x):\n",
    "    return (1/pi)*(np.cos(2*x)/(1 - 2*alpha*np.cos(x) + alpha**2\n",
    "                             )**(3/2))"
   ]
  },
  {
   "cell_type": "markdown",
   "id": "395ab9f0",
   "metadata": {},
   "source": [
    "## Calculating eigenfrequencies and eigenvectors (Bills)"
   ]
  },
  {
   "cell_type": "code",
   "execution_count": 12,
   "id": "c55ea097",
   "metadata": {},
   "outputs": [
    {
     "name": "stdout",
     "output_type": "stream",
     "text": [
      "f : -1.34030e-01\n",
      "f : -3.33338e-02\n",
      "f : -7.14435e-03\n",
      "f : -1.52418e-03\n",
      "g : 1.34070e-01\n",
      "g : 3.33160e-02\n",
      "g : 7.14065e-03\n",
      "g : 1.59517e-03\n"
     ]
    }
   ],
   "source": [
    "#--- Required information ---------------------------------\n",
    "number_of_planets = 4\n",
    "\n",
    "M_planet = 1898.13 * 10**2 #10^22 kg\n",
    "J2 = 1.48485 * 10**-2\n",
    "J4 = -8.107*10**-4\n",
    "# J2 = 0\n",
    "# J4 = 0\n",
    "R_p = 71420 #km\n",
    "\n",
    "a = np.array([421761,671044,1070370,1882600], dtype='float64') #km\n",
    "n = np.array([203.48895,101.37472,50.317608,21.571071], dtype='float64') #deg/day\n",
    "\n",
    "m = np.array([8.931938,4.799844,14.819,10.75938], dtype='float64')  # 10^22 kg\n",
    "m_mc = m/M_planet\n",
    "\n",
    "#Matrices (A & B)\n",
    "\n",
    "A = np.zeros((number_of_planets,number_of_planets))\n",
    "B = np.zeros((number_of_planets,number_of_planets))\n",
    "\n",
    "for j in range(0,number_of_planets):\n",
    "    dummy_sum = 0\n",
    "    for k in range(0,number_of_planets):\n",
    "        if k!=j:\n",
    "            if k<j:\n",
    "                alpha = a[k]/a[j] \n",
    "                alpha_bar = 1\n",
    "            if k>j:\n",
    "                alpha = a[j]/a[k]\n",
    "                alpha_bar = alpha\n",
    "            ans_b1,err_b1 = quad(b_1,0,2*pi)\n",
    "            ans_b2,err_b2 = quad(b_2,0,2*pi)\n",
    "            \n",
    "            A[j,k] = -n[j] * (1/4) * (m_mc[k]/(1+m_mc[j])) * alpha * alpha_bar * ans_b2\n",
    "            B[j,k] = n[j] * (1/4) * (m_mc[k]/(1+m_mc[j])) * alpha * alpha_bar * ans_b2\n",
    "            \n",
    "            dummy_sum += (m_mc[k]/(1+m_mc[j])) * alpha * alpha_bar * ans_b1\n",
    "            \n",
    "    A[j,j] = n[j] *((3/2)*J2*(R_p/a[j])**2 - (9/8)*(J2**2)*\n",
    "                    (R_p/a[j])**4 - (15/4)*J4*(R_p/a[j])**4 + (1/4)*dummy_sum)\n",
    "    B[j,j] = -n[j] *((3/2)*J2*(R_p/a[j])**2 - (27/8)*(J2**2)*\n",
    "                    (R_p/a[j])**4 - (15/4)*J4*(R_p/a[j])**4 + (1/4)*dummy_sum)\n",
    "\n",
    "\n",
    "\n",
    "# Calculting eccentrcity eigenvalues(deg/year) and eigenvectors\n",
    "eigvals_A, eigvecs_A = eig(A)\n",
    "idx = eigvals_A.argsort()[::-1]   \n",
    "eigvals_A = eigvals_A[idx]\n",
    "eigvecs_A = eigvecs_A[:,idx]\n",
    "eigvals_A=eigvals_A.real\n",
    "\n",
    "#Calculating inclination(radians) eigenvalues(deg/year) and eigvectors(rad)\n",
    "eigvals_B, eigvecs_B = eig(B)\n",
    "idx = eigvals_B.argsort()[::1]   \n",
    "eigvals_B = eigvals_B[idx]\n",
    "eigvecs_B = eigvecs_B[:,idx]\n",
    "eigvals_B=eigvals_B.real\n",
    "\n",
    "for i in eigvals_B:\n",
    "    print('f : {0:.{1}e}'.format(i, 5))\n",
    "    \n",
    "for i in eigvals_A:\n",
    "    print('g : {0:.{1}e}'.format(i, 5))\n",
    "    "
   ]
  },
  {
   "cell_type": "markdown",
   "id": "98370f6a",
   "metadata": {},
   "source": [
    "# Calculating eigenfrequencies and eigenvectors (Baland)"
   ]
  },
  {
   "cell_type": "code",
   "execution_count": 20,
   "id": "21362237",
   "metadata": {},
   "outputs": [
    {
     "name": "stdout",
     "output_type": "stream",
     "text": [
      "f : -0.853932\n",
      "f : -0.213076\n",
      "f : -0.048496\n",
      "f : -0.010002\n"
     ]
    }
   ],
   "source": [
    "#--- Required information ---------------------------------\n",
    "number_of_planets = 4\n",
    "\n",
    "M_planet = 1898.13 * 10**2 #10^22 kg\n",
    "J2 = 1.48485 * 10**-2\n",
    "J4 = -8.107*10**-4\n",
    "# J2 = 0\n",
    "# J4 = 0\n",
    "R_p = 71420 #km\n",
    "\n",
    "a = np.array([421761,671044,1070370,1882600], dtype='float64') #km\n",
    "n = np.array([3.551552286182,1.769322711123,0.878207923589,0.376486233434], dtype='float64') #deg/day\n",
    "r = np.array([1821.6,1565.0,2631.2,2410.3], dtype='float64') #km\n",
    "r = r*1000 #m\n",
    "den = np.array([3527.5,2989.0,1942.0,2834.4]) #kg m^-3\n",
    "m = (4/3)*pi*r**3*den\n",
    "m = m/10**22 #10^22 kg\n",
    "m_mc = m/M_planet\n",
    "\n",
    "#Matrices (A & B)\n",
    "\n",
    "B = np.zeros((number_of_planets,number_of_planets))\n",
    "\n",
    "for j in range(0,number_of_planets):\n",
    "    dummy_sum = 0\n",
    "    for k in range(0,number_of_planets):\n",
    "        if k!=j:\n",
    "            if k<j:\n",
    "                alpha = a[k]/a[j] \n",
    "                alpha_bar = 1\n",
    "            if k>j:\n",
    "                alpha = a[j]/a[k]\n",
    "                alpha_bar = alpha\n",
    "            ans_b1,err_b1 = quad(b_1,0,2*pi)\n",
    "            ans_b2,err_b2 = quad(b_2,0,2*pi)\n",
    "            \n",
    "            B[j,k] = n[j] * (1/4) * (m_mc[k]/(1+m_mc[j])) * alpha * alpha_bar * ans_b2\n",
    "            \n",
    "            dummy_sum += m_mc[k] * alpha * alpha_bar * ans_b1\n",
    "            \n",
    "    B[j,j] = -n[j] *((3/2)*J2*(R_p/a[j])**2 - (27/8)*(J2**2)*\n",
    "                    (R_p/a[j])**4 - (15/4)*J4*(R_p/a[j])**4 + (1/4)*dummy_sum)\n",
    "\n",
    "\n",
    "\n",
    "#Calculating inclination(radians) eigenvalues(deg/year) and eigvectors(rad)\n",
    "eigvals_B, eigvecs_B = eig(B)\n",
    "idx = eigvals_B.argsort()[::1]   \n",
    "eigvals_B = eigvals_B[idx]\n",
    "eigvecs_B = eigvecs_B[:,idx]\n",
    "eigvals_B=eigvals_B.real\n",
    "\n",
    "eigvals_B = eigvals_B * 365\n",
    "\n",
    "for i in eigvals_B:\n",
    "    print('f : {0:.{1}f}'.format(i, 6))\n",
    "    "
   ]
  },
  {
   "cell_type": "code",
   "execution_count": null,
   "id": "73c69afa",
   "metadata": {},
   "outputs": [],
   "source": []
  }
 ],
 "metadata": {
  "kernelspec": {
   "display_name": "Python 3 (ipykernel)",
   "language": "python",
   "name": "python3"
  },
  "language_info": {
   "codemirror_mode": {
    "name": "ipython",
    "version": 3
   },
   "file_extension": ".py",
   "mimetype": "text/x-python",
   "name": "python",
   "nbconvert_exporter": "python",
   "pygments_lexer": "ipython3",
   "version": "3.9.6"
  }
 },
 "nbformat": 4,
 "nbformat_minor": 5
}
