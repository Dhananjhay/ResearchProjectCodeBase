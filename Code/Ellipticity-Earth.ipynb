{
 "cells": [
  {
   "cell_type": "code",
   "execution_count": 3,
   "id": "8b82990e",
   "metadata": {},
   "outputs": [],
   "source": [
    "import pandas as pd\n",
    "import numpy as np\n",
    "from math import pi\n",
    "from scipy.integrate import odeint\n",
    "from scipy.optimize import fsolve\n",
    "import matplotlib.pyplot as plt"
   ]
  },
  {
   "cell_type": "markdown",
   "id": "e8f4b8ff",
   "metadata": {},
   "source": [
    "# Computing dynamical ellipticity"
   ]
  },
  {
   "cell_type": "code",
   "execution_count": 4,
   "id": "8304419e",
   "metadata": {},
   "outputs": [],
   "source": [
    "def rhs_clairaut(y,x,xcmb,rhof,rhom):\n",
    "    if x < xcmb:\n",
    "        dydx = np.array([ y[1] , -(6/x)*y[1]])\n",
    "    else:\n",
    "        zeta = rhom/(rhom + (rhof-rhom)*(xcmb/x)**3)\n",
    "        dydx = np.array([ y[1], (-6/x)*zeta*y[1] - \n",
    "                         6/(x**2) * (zeta - 1) * y[0]])\n",
    "    return dydx"
   ]
  },
  {
   "cell_type": "code",
   "execution_count": 5,
   "id": "ac4d2d92",
   "metadata": {},
   "outputs": [],
   "source": [
    "def shoot_clairaut_homog(v,mm,rhom,rhof,xcmb):\n",
    "    y0 = [float(v),0.0]\n",
    "    xx = np.linspace(xcmb, 1, 201)\n",
    "    yy = odeint(rhs_clairaut,y0,xx,args=(xcmb,rhof,rhom))\n",
    "    \n",
    "    nx = len(xx) - 1\n",
    "    \n",
    "    f = yy[nx,1] + 2*yy[nx,0] - 2.5*mm\n",
    "    return f,yy"
   ]
  },
  {
   "cell_type": "code",
   "execution_count": 6,
   "id": "f6d9bd6f",
   "metadata": {},
   "outputs": [],
   "source": [
    "def clairaut_homog(mm,rhom,rhof,xcmb):\n",
    "    v0 = 0.001\n",
    "    \n",
    "    def func(x):\n",
    "        f,yy = shoot_clairaut_homog(x,mm,rhom,rhof,xcmb)\n",
    "        return f\n",
    "    \n",
    "    v = fsolve(func,v0)\n",
    "    \n",
    "    f,yy = shoot_clairaut_homog(v,mm,rhom,rhof,xcmb)\n",
    "    \n",
    "    ellf = v\n",
    "    \n",
    "    flat = yy[-1,0]\n",
    "    ell = (rhof*xcmb**5*ellf + rhom*(flat-ellf*xcmb**5))/(rhof*xcmb**5 + \n",
    "                                                         rhom*(1-xcmb**5))\n",
    "    return ellf,ell"
   ]
  },
  {
   "cell_type": "markdown",
   "id": "3fdf11a5",
   "metadata": {},
   "source": [
    "# Fluid core & whole planet ellipticities "
   ]
  },
  {
   "cell_type": "code",
   "execution_count": 15,
   "id": "aa5d6f63",
   "metadata": {},
   "outputs": [
    {
     "name": "stdout",
     "output_type": "stream",
     "text": [
      "7.27220521664304e-05\n"
     ]
    }
   ],
   "source": [
    "### Assuming rotation frequency = orbital frequency\n",
    "day_sec = 86400 #seconds\n",
    "G = 6.67430 * 10**-11 # m^3 kg^-1 s^-2\n",
    "\n",
    "R = 6371 * 10**3 #m\n",
    "Rf = 3485 * 10**3 #m\n",
    "M = 5.97219 * 10**24 #kg\n",
    "rhom = 4.5 * 10**3 #kg/m^3\n",
    "rhof = 13.0 * 10**3 #kg/m^3\n",
    "\n",
    "rot = 2*pi/(day_sec) #rad/sec\n",
    "print(rot)\n",
    "\n",
    "xcmb = Rf/R\n",
    "mm = (rot**2 * R**3)/(G*M)\n",
    "ellf,ell = clairaut_homog(mm,rhom,rhof,xcmb)"
   ]
  },
  {
   "cell_type": "code",
   "execution_count": 14,
   "id": "29409cb6",
   "metadata": {},
   "outputs": [
    {
     "data": {
      "text/plain": [
       "'0.0033'"
      ]
     },
     "execution_count": 14,
     "metadata": {},
     "output_type": "execute_result"
    }
   ],
   "source": [
    "f'{ell[0]:.{4}f}'"
   ]
  },
  {
   "cell_type": "code",
   "execution_count": null,
   "id": "796ddb72",
   "metadata": {},
   "outputs": [],
   "source": []
  }
 ],
 "metadata": {
  "kernelspec": {
   "display_name": "Python 3 (ipykernel)",
   "language": "python",
   "name": "python3"
  },
  "language_info": {
   "codemirror_mode": {
    "name": "ipython",
    "version": 3
   },
   "file_extension": ".py",
   "mimetype": "text/x-python",
   "name": "python",
   "nbconvert_exporter": "python",
   "pygments_lexer": "ipython3",
   "version": "3.10.4"
  }
 },
 "nbformat": 4,
 "nbformat_minor": 5
}
